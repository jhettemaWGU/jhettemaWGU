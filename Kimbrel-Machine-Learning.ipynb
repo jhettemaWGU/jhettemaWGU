{
  "nbformat": 4,
  "nbformat_minor": 0,
  "metadata": {
    "colab": {
      "provenance": [],
      "authorship_tag": "ABX9TyOyAkNYS1pUhs1CP0MNy16a",
      "include_colab_link": true
    },
    "kernelspec": {
      "name": "python3",
      "display_name": "Python 3"
    },
    "language_info": {
      "name": "python"
    }
  },
  "cells": [
    {
      "cell_type": "markdown",
      "metadata": {
        "id": "view-in-github",
        "colab_type": "text"
      },
      "source": [
        "<a href=\"https://colab.research.google.com/github/jhettemaWGU/jhettemaWGU/blob/main/Kimbrel-Machine-Learning.ipynb\" target=\"_parent\"><img src=\"https://colab.research.google.com/assets/colab-badge.svg\" alt=\"Open In Colab\"/></a>"
      ]
    },
    {
      "cell_type": "code",
      "execution_count": null,
      "metadata": {
        "colab": {
          "base_uri": "https://localhost:8080/"
        },
        "id": "1Vpd6LG_YBZq",
        "outputId": "831a996f-87b8-43ad-9aef-dc84884ee623"
      },
      "outputs": [
        {
          "output_type": "stream",
          "name": "stdout",
          "text": [
            "  pitch_type  balls  strikes  game_year  on_3b     on_2b     on_1b  \\\n",
            "0         FF      1        2       2024    0.0  678882.0       0.0   \n",
            "1         KC      1        1       2024    0.0  678882.0       0.0   \n",
            "2         KC      0        1       2024    0.0  678882.0       0.0   \n",
            "3         FF      0        0       2024    0.0  678882.0       0.0   \n",
            "4         FF      1        2       2024    0.0  596115.0  643376.0   \n",
            "\n",
            "   outs_when_up  inning  at_bat_number  ...  batter_691023  batter_691026  \\\n",
            "0             2       7             72  ...          False          False   \n",
            "1             2       7             72  ...          False          False   \n",
            "2             2       7             72  ...          False          False   \n",
            "3             2       7             72  ...          False          False   \n",
            "4             2       7             71  ...          False          False   \n",
            "\n",
            "   batter_691406  batter_694376  batter_694384  batter_694388  batter_696285  \\\n",
            "0          False          False          False          False          False   \n",
            "1          False          False          False          False          False   \n",
            "2          False          False          False          False          False   \n",
            "3          False          False          False          False          False   \n",
            "4          False          False          False          False          False   \n",
            "\n",
            "   batter_700250  batter_702358  batter_807799  \n",
            "0          False          False          False  \n",
            "1          False          False          False  \n",
            "2          False          False          False  \n",
            "3          False          False          False  \n",
            "4          False          False          False  \n",
            "\n",
            "[5 rows x 856 columns]\n",
            "balls              int64\n",
            "strikes            int64\n",
            "game_year          int64\n",
            "on_3b            float64\n",
            "on_2b            float64\n",
            "                  ...   \n",
            "batter_694388       bool\n",
            "batter_696285       bool\n",
            "batter_700250       bool\n",
            "batter_702358       bool\n",
            "batter_807799       bool\n",
            "Length: 855, dtype: object\n",
            "object\n",
            "Training set size: 7224\n",
            "Test set size: 1806\n",
            "Model Accuracy: 0.33\n",
            "              precision    recall  f1-score   support\n",
            "\n",
            "           0       0.33      1.00      0.50       603\n",
            "           1       0.00      0.00      0.00      1173\n",
            "           2       0.00      0.00      0.00        20\n",
            "           3       0.00      0.00      0.00         7\n",
            "           4       0.00      0.00      0.00         1\n",
            "           5       0.00      0.00      0.00         1\n",
            "           6       0.00      0.00      0.00         1\n",
            "\n",
            "    accuracy                           0.33      1806\n",
            "   macro avg       0.05      0.14      0.07      1806\n",
            "weighted avg       0.11      0.33      0.17      1806\n",
            "\n"
          ]
        },
        {
          "output_type": "stream",
          "name": "stderr",
          "text": [
            "/usr/local/lib/python3.10/dist-packages/sklearn/linear_model/_logistic.py:460: ConvergenceWarning: lbfgs failed to converge (status=1):\n",
            "STOP: TOTAL NO. of ITERATIONS REACHED LIMIT.\n",
            "\n",
            "Increase the number of iterations (max_iter) or scale the data as shown in:\n",
            "    https://scikit-learn.org/stable/modules/preprocessing.html\n",
            "Please also refer to the documentation for alternative solver options:\n",
            "    https://scikit-learn.org/stable/modules/linear_model.html#logistic-regression\n",
            "  n_iter_i = _check_optimize_result(\n",
            "/usr/local/lib/python3.10/dist-packages/sklearn/metrics/_classification.py:1471: UndefinedMetricWarning: Precision and F-score are ill-defined and being set to 0.0 in labels with no predicted samples. Use `zero_division` parameter to control this behavior.\n",
            "  _warn_prf(average, modifier, msg_start, len(result))\n",
            "/usr/local/lib/python3.10/dist-packages/sklearn/metrics/_classification.py:1471: UndefinedMetricWarning: Precision and F-score are ill-defined and being set to 0.0 in labels with no predicted samples. Use `zero_division` parameter to control this behavior.\n",
            "  _warn_prf(average, modifier, msg_start, len(result))\n",
            "/usr/local/lib/python3.10/dist-packages/sklearn/metrics/_classification.py:1471: UndefinedMetricWarning: Precision and F-score are ill-defined and being set to 0.0 in labels with no predicted samples. Use `zero_division` parameter to control this behavior.\n",
            "  _warn_prf(average, modifier, msg_start, len(result))\n"
          ]
        }
      ],
      "source": [
        "import pandas as pd\n",
        "from sklearn.model_selection import train_test_split\n",
        "from sklearn.linear_model import LogisticRegression\n",
        "from sklearn.metrics import accuracy_score, classification_report\n",
        "\n",
        "data = pd.read_csv(\"/content/kimbrel_pitches_subset.csv\")\n",
        "data_clean = data.fillna(0)\n",
        "data_clean = data_clean.drop(columns=['game_date'])\n",
        "data_clean.head(10)\n",
        "\n",
        "data_encoded = pd.get_dummies(data_clean, columns=[\"inning_topbot\", \"home_team\", \"away_team\", \"batter\"])\n",
        "print(data_encoded.head())\n",
        "\n",
        "target = data_encoded['pitch_type']\n",
        "features = data_encoded.drop(columns=['pitch_type'])\n",
        "\n",
        "X_train, X_test, y_train, y_test = train_test_split(features, target, test_size=0.2, random_state=42)\n",
        "\n",
        "print(X_train.dtypes)\n",
        "print(y_train.dtypes)\n",
        "print(f\"Training set size: {X_train.shape[0]}\")\n",
        "print(f\"Test set size: {X_test.shape[0]}\")\n",
        "\n",
        "y_train = pd.factorize(y_train)[0]\n",
        "y_test = pd.factorize(y_test)[0]\n",
        "\n",
        "model = LogisticRegression(max_iter=1000)\n",
        "model.fit(X_train, y_train)\n",
        "\n",
        "y_pred = model.predict(X_test)\n",
        "accuracy = accuracy_score(y_test, y_pred)\n",
        "print(f\"Model Accuracy: {accuracy:.2f}\")\n",
        "print(classification_report(y_test, y_pred))\n",
        "\n",
        "\n",
        "\n"
      ]
    },
    {
      "cell_type": "code",
      "source": [],
      "metadata": {
        "id": "dW_kMseWYJtO"
      },
      "execution_count": null,
      "outputs": []
    }
  ]
}